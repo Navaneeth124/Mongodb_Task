{
 "cells": [
  {
   "cell_type": "code",
   "execution_count": 1,
   "id": "0bb29fb9",
   "metadata": {},
   "outputs": [],
   "source": [
    "import pymongo"
   ]
  },
  {
   "cell_type": "code",
   "execution_count": null,
   "id": "ff1078d3",
   "metadata": {},
   "outputs": [],
   "source": [
    "#Task For CRUD operation, create a directory which has fields like Name, Phone number, Place etc.,\n",
    "#Task Insert the record into the collection.\n"
   ]
  },
  {
   "cell_type": "code",
   "execution_count": null,
   "id": "2c754538",
   "metadata": {},
   "outputs": [],
   "source": []
  },
  {
   "cell_type": "code",
   "execution_count": 2,
   "id": "b369279d",
   "metadata": {},
   "outputs": [],
   "source": [
    "from pymongo import MongoClient"
   ]
  },
  {
   "cell_type": "code",
   "execution_count": 7,
   "id": "82cff05e",
   "metadata": {},
   "outputs": [],
   "source": [
    "client = pymongo.MongoClient('mongodb://localhost:27017/')"
   ]
  },
  {
   "cell_type": "code",
   "execution_count": 8,
   "id": "8712db6a",
   "metadata": {},
   "outputs": [],
   "source": [
    "db =client[\"CRUD\"]"
   ]
  },
  {
   "cell_type": "code",
   "execution_count": 18,
   "id": "b04065c1",
   "metadata": {},
   "outputs": [],
   "source": [
    "my_col =db[\"crud_telephone\"]"
   ]
  },
  {
   "cell_type": "code",
   "execution_count": 19,
   "id": "73c244e8",
   "metadata": {},
   "outputs": [],
   "source": [
    "my_dict =[\n",
    "         {\"name\":\"abirami\" ,\"phone.no.\":\"99234524676\",\"place\":\"Arupukottai\"},\n",
    "         {\"name\": \"Bala\",\"phone.no.\":\"944676547656\",\"place\":\"peraiyur\"},\n",
    "         {\"name\":\"Balaji\",\"phone.no.\":\"6354373647\",\"place\":\"Andipatti\"},\n",
    "         {\"name\":\"Naveen\",\"phone.no.\":\"787665757\",\"place\":\"villapuram\"},\n",
    "         {\"name\":\"Raja\",\"phone.no.\":\"8227653744\",\"place\":\"salem\"},\n",
    "         {\"name\":\"yogesh\",\"phone.no\":\"9923436445\",\"place\":\"chennai\"}\n",
    "]"
   ]
  },
  {
   "cell_type": "code",
   "execution_count": 20,
   "id": "92c8c7b0",
   "metadata": {},
   "outputs": [
    {
     "data": {
      "text/plain": [
       "[{'name': 'abirami', 'phone.no.': '99234524676', 'place': 'Arupukottai'},\n",
       " {'name': 'Bala', 'phone.no.': '944676547656', 'place': 'peraiyur'},\n",
       " {'name': 'Balaji', 'phone.no.': '6354373647', 'place': 'Andipatti'},\n",
       " {'name': 'Naveen', 'phone.no.': '787665757', 'place': 'villapuram'},\n",
       " {'name': 'Raja', 'phone.no.': '8227653744', 'place': 'salem'},\n",
       " {'name': 'yogesh', 'phone.no': '9923436445', 'place': 'chennai'}]"
      ]
     },
     "execution_count": 20,
     "metadata": {},
     "output_type": "execute_result"
    }
   ],
   "source": [
    "my_dict"
   ]
  },
  {
   "cell_type": "code",
   "execution_count": 23,
   "id": "cc359d18",
   "metadata": {},
   "outputs": [],
   "source": [
    "x=my_col.insert_many(my_dict)"
   ]
  },
  {
   "cell_type": "code",
   "execution_count": 30,
   "id": "c3c5f1d4",
   "metadata": {},
   "outputs": [
    {
     "name": "stdout",
     "output_type": "stream",
     "text": [
      "{'_id': ObjectId('63663c042e4acafac3daeb62'), 'name': 'abirami', 'phone.no.': '99234524676', 'place': 'Arupukottai'}\n",
      "{'_id': ObjectId('63663c042e4acafac3daeb63'), 'name': 'Bala', 'phone.no.': '944676547656', 'place': 'peraiyur'}\n",
      "{'_id': ObjectId('63663c042e4acafac3daeb64'), 'name': 'Balaji', 'phone.no.': '6354373647', 'place': 'Andipatti'}\n",
      "{'_id': ObjectId('63663c042e4acafac3daeb65'), 'name': 'Naveen', 'phone.no.': '787665757', 'place': 'villapuram'}\n",
      "{'_id': ObjectId('63663c042e4acafac3daeb66'), 'name': 'Raja', 'phone.no.': '8227653744', 'place': 'salem'}\n",
      "{'_id': ObjectId('63663c042e4acafac3daeb67'), 'name': 'yogesh', 'phone.no': '9923436445', 'place': 'chennai'}\n"
     ]
    }
   ],
   "source": [
    "for x in my_col.find():\n",
    "    print(x)"
   ]
  },
  {
   "cell_type": "code",
   "execution_count": 52,
   "id": "72560159",
   "metadata": {},
   "outputs": [
    {
     "name": "stdout",
     "output_type": "stream",
     "text": [
      "{'_id': ObjectId('63663c042e4acafac3daeb62'), 'name': 'abirami', 'phone.no.': '99234524676', 'place': 'Arupukottai'}\n",
      "{'_id': ObjectId('63663c042e4acafac3daeb63'), 'name': 'Murugan', 'phone.no.': '944676547656', 'place': 'peraiyur'}\n",
      "{'_id': ObjectId('63663c042e4acafac3daeb64'), 'name': 'Balaji', 'phone.no.': '6354373647', 'place': 'Andipatti'}\n",
      "{'_id': ObjectId('63663c042e4acafac3daeb65'), 'name': 'Naveen', 'phone.no.': '787665757', 'place': 'villapuram'}\n",
      "{'_id': ObjectId('63663c042e4acafac3daeb66'), 'name': 'Raja', 'phone.no.': '8227653744', 'place': 'salem'}\n",
      "{'_id': ObjectId('63663c042e4acafac3daeb67'), 'name': 'yogesh', 'phone.no': '9923436445', 'place': 'chennai'}\n"
     ]
    }
   ],
   "source": [
    "#task to Modify the records, use the update_one() method. The update_one() method requires two arguments, query and update. \n",
    "\n",
    "my_col.update_one({\"name\":\"Bala\"},{\"$set\":{\"name\":\"Murugan\"}})\n",
    "for x in my_col.find():\n",
    "    print(x)"
   ]
  },
  {
   "cell_type": "code",
   "execution_count": 54,
   "id": "fd3263f8",
   "metadata": {},
   "outputs": [
    {
     "name": "stdout",
     "output_type": "stream",
     "text": [
      "{'_id': ObjectId('63663c042e4acafac3daeb63'), 'name': 'Murugan', 'phone.no.': '944676547656', 'place': 'peraiyur'}\n",
      "{'_id': ObjectId('63663c042e4acafac3daeb64'), 'name': 'Balaji', 'phone.no.': '6354373647', 'place': 'Andipatti'}\n",
      "{'_id': ObjectId('63663c042e4acafac3daeb65'), 'name': 'Naveen', 'phone.no.': '787665757', 'place': 'villapuram'}\n",
      "{'_id': ObjectId('63663c042e4acafac3daeb66'), 'name': 'Raja', 'phone.no.': '8227653744', 'place': 'salem'}\n",
      "{'_id': ObjectId('63663c042e4acafac3daeb67'), 'name': 'yogesh', 'phone.no': '9923436445', 'place': 'chennai'}\n"
     ]
    }
   ],
   "source": [
    "#Delete the record, use delete_one() method. delete_one() requires a query parameter which specifies the document to delete.\n",
    "\n",
    "my_col.delete_one({\"place\":\"Arupukottai\"})\n",
    "for x in my_col.find():\n",
    "    print(x)"
   ]
  },
  {
   "cell_type": "code",
   "execution_count": null,
   "id": "f1696bac",
   "metadata": {},
   "outputs": [],
   "source": []
  },
  {
   "cell_type": "code",
   "execution_count": null,
   "id": "ab4f5292",
   "metadata": {},
   "outputs": [],
   "source": []
  }
 ],
 "metadata": {
  "kernelspec": {
   "display_name": "Python 3 (ipykernel)",
   "language": "python",
   "name": "python3"
  },
  "language_info": {
   "codemirror_mode": {
    "name": "ipython",
    "version": 3
   },
   "file_extension": ".py",
   "mimetype": "text/x-python",
   "name": "python",
   "nbconvert_exporter": "python",
   "pygments_lexer": "ipython3",
   "version": "3.9.13"
  }
 },
 "nbformat": 4,
 "nbformat_minor": 5
}
